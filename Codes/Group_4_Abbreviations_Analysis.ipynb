{
  "nbformat": 4,
  "nbformat_minor": 0,
  "metadata": {
    "colab": {
      "provenance": []
    },
    "kernelspec": {
      "name": "python3",
      "display_name": "Python 3"
    },
    "language_info": {
      "name": "python"
    }
  },
  "cells": [
    {
      "cell_type": "code",
      "execution_count": null,
      "metadata": {
        "id": "TlO2Klyo9yNe"
      },
      "outputs": [],
      "source": [
        "import pandas as pd\n",
        "import numpy as np\n",
        "import re"
      ]
    },
    {
      "cell_type": "code",
      "source": [
        "# importing the data\n",
        "df_train = pd.read_csv(\"/content/drive/MyDrive/Syracuse University/IST 664 Natural Language Processing/Project/google-quest-challenge/train.csv\")"
      ],
      "metadata": {
        "id": "zZlYHJHO-dcS"
      },
      "execution_count": null,
      "outputs": []
    },
    {
      "cell_type": "code",
      "source": [
        "# accumulating all the text into one big paragraph for all 3 texts individually\n",
        "qt_all = \" \".join(df_train['question_title'])\n",
        "qb_all = \" \".join(df_train['question_body'])\n",
        "a_all = \" \".join(df_train['answer'])"
      ],
      "metadata": {
        "id": "IzbalfZg-evg"
      },
      "execution_count": null,
      "outputs": []
    },
    {
      "cell_type": "code",
      "source": [
        "import nltk\n",
        "nltk.download('punkt')"
      ],
      "metadata": {
        "colab": {
          "base_uri": "https://localhost:8080/"
        },
        "id": "_iSzb_bT-eru",
        "outputId": "3e21f1aa-a781-40b5-f20b-bec6878c7d70"
      },
      "execution_count": null,
      "outputs": [
        {
          "output_type": "stream",
          "name": "stderr",
          "text": [
            "[nltk_data] Downloading package punkt to /root/nltk_data...\n",
            "[nltk_data]   Unzipping tokenizers/punkt.zip.\n"
          ]
        },
        {
          "output_type": "execute_result",
          "data": {
            "text/plain": [
              "True"
            ]
          },
          "metadata": {},
          "execution_count": 4
        }
      ]
    },
    {
      "cell_type": "code",
      "source": [
        "# using nltk's word tokenizer to tokenize the text\n",
        "qt_tokenized = nltk.word_tokenize(qt_all)\n",
        "qb_tokenized = nltk.word_tokenize(qb_all)\n",
        "a_tokenized = nltk.word_tokenize(a_all)"
      ],
      "metadata": {
        "id": "b3qt6RjF-eqE"
      },
      "execution_count": null,
      "outputs": []
    },
    {
      "cell_type": "code",
      "source": [
        "# removing empty tokens and tokens which are just letters\n",
        "qt_tokenized = [word for word in qt_tokenized if word != '' and len(word) > 1]\n",
        "qb_tokenized = [word for word in qb_tokenized if word != '' and len(word) > 1]\n",
        "a_tokenized = [word for word in a_tokenized if word != '' and len(word) > 1]"
      ],
      "metadata": {
        "id": "AjUb-3TR-ekC"
      },
      "execution_count": null,
      "outputs": []
    },
    {
      "cell_type": "code",
      "source": [
        "# removing numbers from the list of tokens\n",
        "qt_tokenized = [word for word in qt_tokenized if not word.isdigit() ]\n",
        "qt_tokenized = [word for word in qt_tokenized if not word.isdigit() ]\n",
        "a_tokenized = [word for word in a_tokenized if not word.isdigit() ]"
      ],
      "metadata": {
        "id": "gE7-9xFF-ejA"
      },
      "execution_count": null,
      "outputs": []
    },
    {
      "cell_type": "code",
      "source": [
        "# lowercasing all the tokens\n",
        "qt_tokenized = [word.lower() for word in qt_tokenized ]\n",
        "qt_tokenized = [word.lower() for word in qt_tokenized ]\n",
        "a_tokenized = [word.lower() for word in a_tokenized ]"
      ],
      "metadata": {
        "id": "BZX4ypy0-ehW"
      },
      "execution_count": null,
      "outputs": []
    },
    {
      "cell_type": "code",
      "source": [
        "# qt_tokenized = list(set(qt_tokenized))\n",
        "# qb_tokenized = list(set(qb_tokenized))\n",
        "# a_tokenized = list(set(a_tokenized))"
      ],
      "metadata": {
        "id": "bMXyihbVCBws"
      },
      "execution_count": null,
      "outputs": []
    },
    {
      "cell_type": "code",
      "source": [
        "# function to remove all puntuations and numbers to return just the words\n",
        "def strip_puncts(string):\n",
        "    pat = \"\\w+\"\n",
        "    # string = \"qo-rd\"\n",
        "    return \"\".join(re.findall(pat, string))"
      ],
      "metadata": {
        "id": "eQf51Cny-efs"
      },
      "execution_count": null,
      "outputs": []
    },
    {
      "cell_type": "code",
      "source": [
        "# applying the function above\n",
        "qt_tokenized = [strip_puncts(word) for word in qt_tokenized]\n",
        "qb_tokenized = [strip_puncts(word) for word in qb_tokenized]\n",
        "a_tokenized = [strip_puncts(word) for word in a_tokenized]"
      ],
      "metadata": {
        "id": "qvJqP_UC-ecw"
      },
      "execution_count": null,
      "outputs": []
    },
    {
      "cell_type": "code",
      "source": [
        "from nltk.stem import WordNetLemmatizer\n",
        "nltk.download('wordnet')\n",
        "nltk.download('words')\n",
        "\n",
        "lemmatizer = WordNetLemmatizer() # initializing the lemmatizer"
      ],
      "metadata": {
        "colab": {
          "base_uri": "https://localhost:8080/"
        },
        "id": "CggG5QiAEPTO",
        "outputId": "e9a4cb68-affc-494b-e718-b2b9d64c1179"
      },
      "execution_count": null,
      "outputs": [
        {
          "output_type": "stream",
          "name": "stderr",
          "text": [
            "[nltk_data] Downloading package wordnet to /root/nltk_data...\n",
            "[nltk_data] Downloading package words to /root/nltk_data...\n",
            "[nltk_data]   Unzipping corpora/words.zip.\n"
          ]
        }
      ]
    },
    {
      "cell_type": "code",
      "source": [
        "# applying lemmatization to tokens\n",
        "qt_tokenized = [lemmatizer.lemmatize(word) for word in qt_tokenized]\n",
        "qb_tokenized = [lemmatizer.lemmatize(word) for word in qb_tokenized]\n",
        "a_tokenized = [lemmatizer.lemmatize(word) for word in a_tokenized]"
      ],
      "metadata": {
        "id": "MFzxwfvk-ebC"
      },
      "execution_count": null,
      "outputs": []
    },
    {
      "cell_type": "code",
      "source": [
        "# list of all valid english words\n",
        "all_english_words = set(nltk.corpus.words.words())"
      ],
      "metadata": {
        "id": "s90JOKqu-eWr"
      },
      "execution_count": null,
      "outputs": []
    },
    {
      "cell_type": "code",
      "source": [
        "# getting a list of words which do not belong to ideal english words list above\n",
        "qt_non_words = [lemmatizer.lemmatize(word) for word in qt_tokenized if word not in all_english_words]\n",
        "qb_non_words = [lemmatizer.lemmatize(word) for word in qb_tokenized if word not in all_english_words]\n",
        "a_non_words = [lemmatizer.lemmatize(word) for word in a_tokenized if word not in all_english_words]"
      ],
      "metadata": {
        "id": "a7y49xVI-eQH"
      },
      "execution_count": null,
      "outputs": []
    },
    {
      "cell_type": "code",
      "source": [
        "len(qt_non_words)\n",
        "len(qb_non_words)\n",
        "len(a_non_words)"
      ],
      "metadata": {
        "colab": {
          "base_uri": "https://localhost:8080/"
        },
        "id": "_tE2MPBU-eOO",
        "outputId": "50fa0dca-7165-430c-cfb7-0c9f82d360ed"
      },
      "execution_count": null,
      "outputs": [
        {
          "output_type": "execute_result",
          "data": {
            "text/plain": [
              "130291"
            ]
          },
          "metadata": {},
          "execution_count": 15
        }
      ]
    },
    {
      "cell_type": "code",
      "source": [
        "# qt_non_words = list(set(qt_non_words))\n",
        "# qb_non_words = list(set(qb_non_words))\n",
        "# a_non_words = list(set(a_non_words))"
      ],
      "metadata": {
        "id": "jdnBtzSn-eL3"
      },
      "execution_count": null,
      "outputs": []
    },
    {
      "cell_type": "code",
      "source": [
        "qt_non_words[:200] # there are some words here that are not recognized as english word by the nltk package. false negatives basically.\n",
        "# But we are only interested in abbreviations from 2-5 length so we can ignore this fact for now. "
      ],
      "metadata": {
        "id": "02_yFZmmHP7a"
      },
      "execution_count": null,
      "outputs": []
    },
    {
      "cell_type": "code",
      "source": [
        "qt_abvs = [word for word in qt_non_words if len(word) in range(2,6)]\n",
        "qb_abvs = [word for word in qb_non_words if len(word) in range(2,6)]\n",
        "a_abvs = [word for word in a_non_words if len(word) in range(2,6)]"
      ],
      "metadata": {
        "id": "sjZZVNapHP3A"
      },
      "execution_count": null,
      "outputs": []
    },
    {
      "cell_type": "code",
      "source": [
        "freq_qt_abvs = nltk.FreqDist(qt_abvs)\n",
        "freq_qb_abvs = nltk.FreqDist(qb_abvs)\n",
        "freq_a_abvs = nltk.FreqDist(a_abvs)"
      ],
      "metadata": {
        "id": "bmLYVMdiHP0u"
      },
      "execution_count": null,
      "outputs": []
    },
    {
      "cell_type": "code",
      "source": [
        "freq_qt_abvs.most_common(50)"
      ],
      "metadata": {
        "id": "eDbxI7DtHPyi",
        "colab": {
          "base_uri": "https://localhost:8080/"
        },
        "outputId": "e822afff-1ae7-4e06-a3ac-89f899001d29"
      },
      "execution_count": null,
      "outputs": [
        {
          "output_type": "execute_result",
          "data": {
            "text/plain": [
              "[('using', 233),\n",
              " ('nt', 160),\n",
              " ('sql', 65),\n",
              " ('app', 60),\n",
              " ('php', 58),\n",
              " ('java', 55),\n",
              " ('email', 43),\n",
              " ('url', 39),\n",
              " ('linux', 32),\n",
              " ('api', 31),\n",
              " ('mysql', 28),\n",
              " ('html', 27),\n",
              " ('phd', 24),\n",
              " ('ip', 23),\n",
              " ('xml', 23),\n",
              " ('le', 19),\n",
              " ('unix', 19),\n",
              " ('usb', 18),\n",
              " ('json', 18),\n",
              " ('gb', 17),\n",
              " ('apps', 17),\n",
              " ('etc', 16),\n",
              " ('pa', 16),\n",
              " ('ipad', 15),\n",
              " ('http', 15),\n",
              " ('perl', 15),\n",
              " ('tikz', 14),\n",
              " ('gmail', 14),\n",
              " ('vpn', 13),\n",
              " ('mvc', 13),\n",
              " ('admin', 13),\n",
              " ('pdf', 13),\n",
              " ('popup', 12),\n",
              " ('vba', 12),\n",
              " ('2d', 11),\n",
              " ('3d', 11),\n",
              " ('cron', 10),\n",
              " ('ic', 10),\n",
              " ('1204', 10),\n",
              " ('img', 10),\n",
              " ('fails', 10),\n",
              " ('pc', 10),\n",
              " ('dc', 10),\n",
              " ('wifi', 10),\n",
              " ('ui', 9),\n",
              " ('ee', 9),\n",
              " ('csv', 9),\n",
              " ('ii', 9),\n",
              " ('ok', 8),\n",
              " ('ux', 8)]"
            ]
          },
          "metadata": {},
          "execution_count": 18
        }
      ]
    },
    {
      "cell_type": "code",
      "source": [
        "freq_qb_abvs.most_common(50)"
      ],
      "metadata": {
        "id": "d2AGCL0xHPwc",
        "colab": {
          "base_uri": "https://localhost:8080/"
        },
        "outputId": "48dadd2c-6ee9-42a9-cea3-10064fa145c5"
      },
      "execution_count": null,
      "outputs": [
        {
          "output_type": "execute_result",
          "data": {
            "text/plain": [
              "[('gt', 8919),\n",
              " ('lt', 7621),\n",
              " ('nt', 3396),\n",
              " ('using', 1777),\n",
              " ('Is', 1393),\n",
              " ('What', 1213),\n",
              " ('amp', 1106),\n",
              " ('This', 1102),\n",
              " ('How', 1082),\n",
              " ('ve', 1076),\n",
              " ('If', 1028),\n",
              " ('http', 1019),\n",
              " ('So', 960),\n",
              " ('It', 948),\n",
              " ('In', 924),\n",
              " ('But', 877),\n",
              " ('int', 771),\n",
              " ('My', 767),\n",
              " ('10', 616),\n",
              " ('seems', 574),\n",
              " ('When', 574),\n",
              " ('And', 505),\n",
              " ('etc', 453),\n",
              " ('Can', 450),\n",
              " ('Here', 408),\n",
              " ('We', 396),\n",
              " ('Any', 381),\n",
              " ('php', 374),\n",
              " ('Does', 371),\n",
              " ('app', 366),\n",
              " ('Now', 345),\n",
              " ('email', 335),\n",
              " ('var', 328),\n",
              " ('byte', 324),\n",
              " ('href', 323),\n",
              " ('There', 297),\n",
              " ('td', 297),\n",
              " ('frac', 292),\n",
              " ('100', 284),\n",
              " ('Why', 283),\n",
              " ('Or', 253),\n",
              " ('Do', 250),\n",
              " ('Also', 230),\n",
              " ('Then', 229),\n",
              " ('url', 228),\n",
              " ('eg', 223),\n",
              " ('To', 221),\n",
              " ('20', 221),\n",
              " ('le', 218),\n",
              " ('Are', 215)]"
            ]
          },
          "metadata": {},
          "execution_count": 19
        }
      ]
    },
    {
      "cell_type": "code",
      "source": [
        "freq_a_abvs.most_common(50)"
      ],
      "metadata": {
        "id": "gbjI1O-THPuU",
        "colab": {
          "base_uri": "https://localhost:8080/"
        },
        "outputId": "d0b56811-a6e4-400e-8181-90fd4ba27b3b"
      },
      "execution_count": null,
      "outputs": [
        {
          "output_type": "execute_result",
          "data": {
            "text/plain": [
              "[('gt', 4430),\n",
              " ('nt', 3505),\n",
              " ('lt', 2966),\n",
              " ('amp', 1543),\n",
              " ('using', 1449),\n",
              " ('http', 947),\n",
              " ('ll', 605),\n",
              " ('ve', 560),\n",
              " ('nbsp', 475),\n",
              " ('le', 459),\n",
              " ('int', 408),\n",
              " ('frac', 405),\n",
              " ('etc', 386),\n",
              " ('eg', 310),\n",
              " ('var', 302),\n",
              " ('seems', 299),\n",
              " ('url', 267),\n",
              " ('php', 248),\n",
              " ('email', 204),\n",
              " ('html', 183),\n",
              " ('app', 181),\n",
              " ('sudo', 165),\n",
              " ('sql', 163),\n",
              " ('ip', 138),\n",
              " ('ok', 134),\n",
              " ('java', 133),\n",
              " ('pa', 131),\n",
              " ('n1', 127),\n",
              " ('byte', 118),\n",
              " ('info', 109),\n",
              " ('linux', 108),\n",
              " ('10', 104),\n",
              " ('pc', 101),\n",
              " ('std', 101),\n",
              " ('api', 100),\n",
              " ('pixel', 96),\n",
              " ('mysql', 96),\n",
              " ('john', 95),\n",
              " ('def', 90),\n",
              " ('g_', 89),\n",
              " ('asked', 86),\n",
              " ('cdot', 85),\n",
              " ('k1', 85),\n",
              " ('andor', 80),\n",
              " ('usb', 80),\n",
              " ('xml', 80),\n",
              " ('src', 78),\n",
              " ('args', 77),\n",
              " ('td', 76),\n",
              " ('sqrt', 73)]"
            ]
          },
          "metadata": {},
          "execution_count": 20
        }
      ]
    },
    {
      "cell_type": "code",
      "source": [
        "\"\"\" \n",
        "CONCLUSION:\n",
        "There seem to be no slangs here that are being used on a very frequent basis. So we need not handle these separately while cleaning the text for model building purposes.\n",
        "\"\"\""
      ],
      "metadata": {
        "id": "BaOfTVVxHPsT"
      },
      "execution_count": null,
      "outputs": []
    },
    {
      "cell_type": "code",
      "source": [],
      "metadata": {
        "id": "stFdJUAdHPp_"
      },
      "execution_count": null,
      "outputs": []
    },
    {
      "cell_type": "code",
      "source": [],
      "metadata": {
        "id": "aCx6MAvVHPnz"
      },
      "execution_count": null,
      "outputs": []
    },
    {
      "cell_type": "code",
      "source": [],
      "metadata": {
        "id": "6TCv_A0zHPls"
      },
      "execution_count": null,
      "outputs": []
    },
    {
      "cell_type": "code",
      "source": [],
      "metadata": {
        "id": "i51GWzyhHPjo"
      },
      "execution_count": null,
      "outputs": []
    },
    {
      "cell_type": "code",
      "source": [],
      "metadata": {
        "id": "w8Meo4p8HPhv"
      },
      "execution_count": null,
      "outputs": []
    },
    {
      "cell_type": "code",
      "source": [],
      "metadata": {
        "id": "0LHyJZ9oHPfr"
      },
      "execution_count": null,
      "outputs": []
    },
    {
      "cell_type": "code",
      "source": [],
      "metadata": {
        "id": "p9NJKKDHHPdn"
      },
      "execution_count": null,
      "outputs": []
    },
    {
      "cell_type": "code",
      "source": [],
      "metadata": {
        "id": "Zb027lnpHPbt"
      },
      "execution_count": null,
      "outputs": []
    },
    {
      "cell_type": "code",
      "source": [],
      "metadata": {
        "id": "84P39VqqHPZp"
      },
      "execution_count": null,
      "outputs": []
    },
    {
      "cell_type": "code",
      "source": [],
      "metadata": {
        "id": "_WbL4FDPHPXj"
      },
      "execution_count": null,
      "outputs": []
    },
    {
      "cell_type": "code",
      "source": [],
      "metadata": {
        "id": "3tkXLtTjHPVU"
      },
      "execution_count": null,
      "outputs": []
    },
    {
      "cell_type": "code",
      "source": [],
      "metadata": {
        "id": "Lm6GxeriHPTC"
      },
      "execution_count": null,
      "outputs": []
    }
  ]
}